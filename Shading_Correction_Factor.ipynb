{
 "cells": [
  {
   "cell_type": "markdown",
   "metadata": {},
   "source": [
    "# 日よけ効果係数算定ツール\n",
    "\n",
    "- 一次目標：日よけ効果係数算定ツールのpython上での再現\n"
   ]
  },
  {
   "cell_type": "markdown",
   "metadata": {},
   "source": [
    "## 6.3 直達日射に対する日よけ効果係数\n",
    "\n",
    "### 6.3.1 x+側に対する係数の算定"
   ]
  },
  {
   "cell_type": "markdown",
   "metadata": {},
   "source": [
    "#### 6.3.1 a) 式(15)\n",
    "\n",
    "$$\n",
    "A_{oh0+}(x,y) = \\left\\{\n",
    "\\begin{array}{ll}\n",
    "0 \\hspace{24pt}(z_{y+}=0)\n",
    "\\\\\n",
    "\\frac{1}{2} (x_{3y+} + x_2 / 2 - x) \\frac{z_{y+} \\tan h_{S,d,t} / \\cos A_{ZW,j,d,t}}{z_{y+} \\tan | A_{ZW,j,d,t} |} (x_{3y+} + x_2 / 2 - x)\n",
    "\\\\\n",
    "\\hspace{30pt} \\left( \\begin{array}{ll}\n",
    "x_{3y+} + x_2 / 2 - x < z_{y+} \\tan | A_{ZW,j,d,t} | \\\\\n",
    "y_{1} + y_2 / 2 - y \\geq \\frac{z_{y+} \\tan h_{S,d,t} / \\cos A_{ZW,j,d,t}}{z_{y+} \\tan | A_{ZW,j,d,t} |} (x_{3y+} + x_2 / 2 - x) \n",
    "\\end{array} \\right)\n",
    "\\\\\n",
    "\\Bigl\\{ (x_{3y+} + x_2 / 2 - x) - \\frac{1}{2} (y_{1} + y_2 / 2 - y) \\frac{z_{y+} \\tan | A_{ZW,j,d,t} |}{z_{y+} \\tan h_{S,d,t} / \\cos A_{ZW,j,d,t}} \\Bigr\\} (y_{1} + y_2 / 2 - y)\n",
    "\\\\\n",
    "\\hspace{30pt} \\left( \\begin{array}{ll}\n",
    "x_{3y+} + x_2 / 2 - x > \\frac{z_{y+} \\tan | A_{ZW,j,d,t} |}{z_{y+} \\tan h_{S,d,t} / \\cos A_{ZW,j,d,t}} (y_{1} + y_2 / 2 - y) \\\\\n",
    "y_{1} + y_2 / 2 - y < z_{y+} \\tan h_{S,d,t} / \\cos A_{ZW,j,d,t}\n",
    "\\end{array} \\right)\n",
    "\\\\\n",
    "( x_{3y+} + x_2 / 2 - x - \\frac{1}{2} z_{y+} \\tan | A_{ZW,j,d,t} | ) z_{y+} \\tan h_{S,d,t} / \\cos A_{ZW,j,d,t}\n",
    "\\\\\n",
    "\\hspace{30pt} \\left( \\begin{array}{ll}\n",
    "x_{3y+} + x_2 / 2 - x \\geq z_{y+} \\tan | A_{ZW,j,d,t} | \\\\\n",
    "y_{1} + y_2 / 2 - y \\geq z_{y+} \\tan h_{S,d,t} / \\cos A_{ZW,j,d,t}\n",
    "\\end{array} \\right)\n",
    "\\end{array}\n",
    "\\right.  \\qquad (15) \n",
    "$$"
   ]
  },
  {
   "cell_type": "code",
   "execution_count": 1,
   "metadata": {
    "collapsed": true
   },
   "outputs": [],
   "source": [
    "\"\"\" 式(15) \"\"\"\n",
    "import numpy as np\n",
    "\n",
    "def calc_Aoh0p(XX, YY, X1, X2, X3, X1yp, X1ym, X3yp, X3ym, Y1, Y2, Y3, Y1xp, Y1xm, Y3xp, Y3xm, Zxp, Zxm, Zyp, Zym, Azw, hs):\n",
    " \n",
    "    X_th = X3yp + X2 / 2 - XX\n",
    "    Y_th = Y1 + Y2 / 2 - YY\n",
    "    X_th_Z = Zyp * np.tan(abs(np.radians(Azw)))  \n",
    "    Y_th_Z = Zyp * np.tan(np.radians(hs)) / np.cos(np.radians(Azw))\n",
    "        \n",
    "    if X_th_Z == 0 or Y_th_Z <= 0:\n",
    "        Aoh0p = 0    # 式(15)条件1 と 日よけが影を落とさない条件をあわせて処理\n",
    "    else:\n",
    "        Aoh0p = calc_Aoh0p00(X_th, Y_th, X_th_Z, Y_th_Z)\n",
    "    return Aoh0p\n",
    "        \n",
    "def calc_Aoh0p00(X_th, Y_th, X_th_Z, Y_th_Z):\n",
    "    \n",
    "    if (X_th >= X_th_Z and Y_th >= Y_th_Z):\n",
    "        Aoh0p00 = (X_th - X_th_Z / 2) * Y_th_Z       # 式(15)条件4\n",
    "    elif Y_th * X_th_Z >= X_th * Y_th_Z:\n",
    "        Aoh0p00 = X_th ** 2 * Y_th_Z / X_th_Z / 2       # 式(15)条件2\n",
    "    else:\n",
    "        Aoh0p00 = (X_th - Y_th / 2 * X_th_Z / Y_th_Z) * Y_th      # 式(15)条件3    \n",
    "    return Aoh0p00\n"
   ]
  },
  {
   "cell_type": "code",
   "execution_count": 2,
   "metadata": {},
   "outputs": [
    {
     "name": "stdout",
     "output_type": "stream",
     "text": [
      "case1.0: Aohop = 0, 期待値 = 0.0, 残差 = 0.0\n",
      "case2.0: Aohop = 0.0775157853238327, 期待値 = 0.0775157853238327, 残差 = 0.0\n",
      "case3.0: Aohop = 0.07780003190413882, 期待値 = 0.0778000319041388, 残差 = 2.7755575615628914e-17\n",
      "case4.0: Aohop = 0.03672539075835095, 期待値 = 0.0367253907583509, 残差 = 4.85722573273506e-17\n",
      "case5.0: Aohop = 0.03127460375376254, 期待値 = 0.0312746037537625, 残差 = 3.469446951953614e-17\n",
      "case6.0: Aohop = 0.028567119585167593, 期待値 = 0.0285671195851676, 残差 = -6.938893903907228e-18\n",
      "case7.0: Aohop = 0.7830463214892595, 期待値 = 0.783046321489259, 残差 = 4.440892098500626e-16\n",
      "case8.0: Aohop = 0.7859177139182305, 期待値 = 0.78591771391823, 残差 = 5.551115123125783e-16\n",
      "case9.0: Aohop = 0.3709913022030704, 期待値 = 0.37099130220307, 残差 = 4.440892098500626e-16\n",
      "case10.0: Aohop = 0.3159287275889663, 期待値 = 0.315928727588966, 残差 = 2.7755575615628914e-16\n",
      "case11.0: Aohop = 0.28857835617943045, 期待値 = 0.28857835617943, 残差 = 4.440892098500626e-16\n",
      "case12.0: Aohop = 2.563941165914074, 期待値 = 2.56394116591407, 残差 = 3.9968028886505635e-15\n",
      "case13.0: Aohop = 2.573343012331194, 期待値 = 2.57334301233119, 残差 = 3.9968028886505635e-15\n",
      "case14.0: Aohop = 1.2147427882752244, 期待値 = 1.21474278827522, 残差 = 4.440892098500626e-15\n",
      "case15.0: Aohop = 1.0344505145233795, 期待値 = 1.03445051452338, 残差 = -4.440892098500626e-16\n",
      "case16.0: Aohop = 0.9448967534807639, 期待値 = 0.9448967534807641, 残差 = -2.220446049250313e-16\n",
      "case17.0: Aohop = 6.379506109951317, 期待値 = 6.379506109951321, 残差 = -4.440892098500626e-15\n",
      "case18.0: Aohop = 6.389187639097069, 期待値 = 6.389187639097071, 残差 = -1.7763568394002505e-15\n",
      "case19.0: Aohop = 3.6442283648256732, 期待値 = 3.64422836482567, 残差 = 3.1086244689504383e-15\n",
      "case20.0: Aohop = 3.1033515435701378, 期待値 = 3.10335154357014, 残差 = -2.220446049250313e-15\n",
      "case21.0: Aohop = 2.834690260442291, 期待値 = 2.83469026044229, 残差 = 8.881784197001252e-16\n",
      "case22.0: Aohop = 8.627848832021371, 期待値 = 8.62784883202137, 残差 = 1.7763568394002505e-15\n",
      "case23.0: Aohop = 8.629315920704013, 期待値 = 8.629315920704009, 残差 = 3.552713678800501e-15\n",
      "case24.0: Aohop = 8.745417194172102, 期待値 = 8.7454171941721, 残差 = 1.7763568394002505e-15\n",
      "case25.0: Aohop = 8.828593832258711, 期待値 = 8.828593832258711, 残差 = 0.0\n",
      "case26.0: Aohop = 9.022390898290931, 期待値 = 9.02239089829093, 残差 = 1.7763568394002505e-15\n",
      "case27.0: Aohop = 8.949285600869972, 期待値 = 8.94928560086997, 残差 = 1.7763568394002505e-15\n",
      "case28.0: Aohop = 8.9495783031148, 期待値 = 8.9495783031148, 残差 = 0.0\n",
      "case29.0: Aohop = 8.972741935806866, 期待値 = 8.97274193580687, 残差 = -3.552713678800501e-15\n",
      "case30.0: Aohop = 8.989336698600132, 期待値 = 8.98933669860013, 残差 = 1.7763568394002505e-15\n",
      "case31.0: Aohop = 9.0280015979615, 期待値 = 9.0280015979615, 残差 = 0.0\n"
     ]
    }
   ],
   "source": [
    "\"\"\" 式(15) Test \"\"\"\n",
    "# \\確認.xlsx \"式(15)Aoh0p\"シート → \\Aoh0p.csv を作成 → \\TestConfig01 下に置いて読み込み → 計算\n",
    "\n",
    "import pandas as pd\n",
    "import sys\n",
    "csv_input = pd.read_csv(filepath_or_buffer=\"./TestConfig01/Aoh0p.csv\", encoding=\"ms932\", sep=\",\")\n",
    "if csv_input.columns[0]!=\"Aoh0p_case\":\n",
    "    sys.exit(\"ファイル内に貼り付けたテスト条件が違います\")\n",
    "for i in range(len(csv_input)):\n",
    "    [case, XX, YY, X1, X2, X3, X1yp, X1ym, X3yp, X3ym, Y1, Y2, Y3, Y1xp, Y1xm, Y3xp, Y3xm, Zxp, Zxm, Zyp, Zym, Azw, hs, Aoh0pA] \\\n",
    "        = csv_input.values[i]\n",
    "    Aoh0p = calc_Aoh0p(XX, YY, X1, X2, X3, X1yp, X1ym, X3yp, X3ym, Y1, Y2, Y3, Y1xp, Y1xm, Y3xp, Y3xm, Zxp, Zxm, Zyp, Zym, Azw, hs)\n",
    "    print('case{}: Aohop = {}, 期待値 = {}, 残差 = {}'.format( case, Aoh0p, Aoh0pA, Aoh0p - Aoh0pA ))    "
   ]
  },
  {
   "cell_type": "markdown",
   "metadata": {},
   "source": [
    "#### 6.3.1 b) 式(16)\n",
    "\n",
    "$$\n",
    "A_{sf0+}(x,y) = \\left\\{\n",
    "\\begin{array}{ll}\n",
    "0 \\hspace{24pt}(z_{x+}=0)\n",
    "\\\\\n",
    "\\frac{1}{2} (y_{1x+} + y_2 / 2 - y) \\frac{z_{x+} \\tan | A_{ZW,j,d,t} |}{z_{x+} \\tan h_{S,d,t} / \\cos A_{ZW,j,d,t}} (y_{1x+} + y_2 / 2 - y)\n",
    "\\\\\n",
    "\\hspace{30pt} \\left( \\begin{array}{ll}\n",
    "y_{1x+} + y_2 / 2 - y < z_{x+} \\tan h_{S,d,t} / \\cos A_{ZW,j,d,t} \\\\\n",
    "x_{3} + x_2 / 2 - x \\geq \\frac{z_{x+} \\tan | A_{ZW,j,d,t} |}{z_{x+} \\tan h_{S,d,t} / \\cos A_{ZW,j,d,t}} (y_{1x+} + y_2 / 2 - y) \n",
    "\\end{array} \\right)\n",
    "\\\\\n",
    "\\Bigl\\{ (y_{1x+} + y_2 / 2 - y) - \\frac{1}{2} (x_{3} + x_2 / 2 - x) \\frac{z_{x+} \\tan h_{S,d,t} / \\cos A_{ZW,j,d,t}}{z_{x+} \\tan | A_{ZW,j,d,t} |} \\Bigr\\} (x_{3} + x_2 / 2 - x)\n",
    "\\\\\n",
    "\\hspace{30pt} \\left( \\begin{array}{ll}\n",
    "y_{1x+} + y_2 / 2 - y > \\frac{z_{x+} \\tan h_{S,d,t} / \\cos A_{ZW,j,d,t}}{z_{x+} \\tan | A_{ZW,j,d,t} |} (x_{3} + x_2 / 2 - x) \\\\\n",
    "x_{3} + x_2 / 2 - x < z_{x+} \\tan | A_{ZW,j,d,t} |\n",
    "\\end{array} \\right)\n",
    "\\\\\n",
    "( y_{1x+} + y_2 / 2 - y - \\frac{1}{2} z_{x+} \\tan h_{S,d,t} / \\cos A_{ZW,j,d,t} ) \\; z_{x+} \\tan | A_{ZW,j,d,t} |\n",
    "\\\\\n",
    "\\hspace{30pt} \\left( \\begin{array}{ll}\n",
    "y_{1x+} + y_2 / 2 - y \\geq z_{x+} \\tan h_{S,d,t} / \\cos A_{ZW,j,d,t} \\\\\n",
    "x_{3} + x_2 / 2 - x \\geq z_{x+} \\tan | A_{ZW,j,d,t} |\n",
    "\\end{array} \\right)\n",
    "\\end{array}\n",
    "\\right.  \\qquad (16) \n",
    "$$\n",
    "\n",
    "- コード中では、座標を入れ替えて、`calc_Aoh0p00`を叩くことで対応\n",
    "  - 式$(15)$の変数 → 式$(16)$の変数\n",
    "  - $x$ → $y$\n",
    "  - $x_2$ → $y_2$\n",
    "  - $x_{3y+}$ → $y_{1x+}$\n",
    "  - $y$ → $x$\n",
    "  - $y_1$ → $x_3$\n",
    "  - $y_2$ → $x_2$\n",
    "  - $z_{y+} \\tan h_{S,d,t} / \\cos A_{ZW,j,d,t}$ → $z_{x+} \\tan | A_{ZW,j,d,t} |$\n",
    "  - $z_{y+} \\tan | A_{ZW,j,d,t} |$ → $z_{x+} \\tan h_{S,d,t} / \\cos A_{ZW,j,d,t}$"
   ]
  },
  {
   "cell_type": "code",
   "execution_count": 3,
   "metadata": {
    "collapsed": true
   },
   "outputs": [],
   "source": [
    "\"\"\" 式(16) \"\"\"\n",
    "import numpy as np\n",
    "\n",
    "def calc_Asf0p(XX, YY, X1, X2, X3, X1yp, X1ym, X3yp, X3ym, Y1, Y2, Y3, Y1xp, Y1xm, Y3xp, Y3xm, Zxp, Zxm, Zyp, Zym, Azw, hs):\n",
    " \n",
    "    X_th = Y1xp + Y2 / 2 - YY\n",
    "    Y_th = X3 + X2 / 2 - XX\n",
    "    X_th_Z = Zxp * np.tan(np.radians(hs)) / np.cos(np.radians(Azw))  \n",
    "    Y_th_Z = Zxp * np.tan(abs(np.radians(Azw)))\n",
    "       \n",
    "    if X_th_Z == 0 or Y_th_Z <= 0:\n",
    "        Aoh0p = 0    # 式(16)条件1 と 日よけが影を落とさない条件をあわせて処理\n",
    "    else:\n",
    "        Aoh0p = calc_Aoh0p00(X_th, Y_th, X_th_Z, Y_th_Z)\n",
    "    return Aoh0p"
   ]
  },
  {
   "cell_type": "code",
   "execution_count": 4,
   "metadata": {},
   "outputs": [
    {
     "name": "stdout",
     "output_type": "stream",
     "text": [
      "case1.0: Asfop = 0, 期待値 = 0.0, 残差 = 0.0\n",
      "case2.0: Asfop = 8.951440242791485, 期待値 = 8.951440242791481, 残差 = 3.552713678800501e-15\n",
      "case3.0: Asfop = 8.951152168017515, 期待値 = 8.95115216801752, 残差 = -5.329070518200751e-15\n",
      "case4.0: Asfop = 1.4419562661634264, 期待値 = 1.44195626616343, 残差 = -3.552713678800501e-15\n",
      "case5.0: Asfop = 0.832815119938684, 期待値 = 0.8328151199386841, 残差 = -1.1102230246251565e-16\n",
      "case6.0: Asfop = 0.025183973407320585, 期待値 = 0.0251839734073206, 残差 = -1.3877787807814457e-17\n",
      "case7.0: Asfop = 8.236407718863639, 期待値 = 8.23640771886364, 残差 = -1.7763568394002505e-15\n",
      "case8.0: Asfop = 8.233497654918239, 期待値 = 8.23349765491824, 残差 = -1.7763568394002505e-15\n",
      "case9.0: Asfop = 1.4160732663325195, 期待値 = 1.41607326633252, 残差 = -4.440892098500626e-16\n",
      "case10.0: Asfop = 0.820613756806761, 期待値 = 0.8206137568067611, 残差 = -1.1102230246251565e-16\n",
      "case11.0: Asfop = 0.02486446136556832, 期待値 = 0.0248644613655683, 残差 = 2.0816681711721685e-17\n",
      "case12.0: Asfop = 6.431528028779486, 期待値 = 6.43152802877949, 残差 = -4.440892098500626e-15\n",
      "case13.0: Asfop = 6.421999559594079, 期待値 = 6.421999559594081, 残差 = -1.7763568394002505e-15\n",
      "case14.0: Asfop = 1.3507395938771256, 期待値 = 1.3507395938771298, 残差 = -4.218847493575595e-15\n",
      "case15.0: Asfop = 0.7898151682514077, 期待値 = 0.7898151682514079, 残差 = -1.1102230246251565e-16\n",
      "case16.0: Asfop = 0.02405795148581049, 期待値 = 0.0240579514858105, 残差 = -1.0408340855860843e-17\n",
      "case17.0: Asfop = 2.615027244957475, 期待値 = 2.6150272449574796, 残差 = -4.440892098500626e-15\n",
      "case18.0: Asfop = 2.605473102965575, 期待値 = 2.6054731029655804, 残差 = -5.329070518200751e-15\n",
      "case19.0: Asfop = 1.1626187816313778, 期待値 = 1.1626187816313798, 残差 = -1.9984014443252818e-15\n",
      "case20.0: Asfop = 0.7011341669038814, 期待値 = 0.701134166903881, 残差 = 4.440892098500626e-16\n",
      "case21.0: Asfop = 0.021735698840853947, 期待値 = 0.0217356988408539, 残差 = 4.5102810375396984e-17\n",
      "case22.0: Asfop = 0.39626765752847665, 期待値 = 0.3962676575284771, 残差 = -4.440892098500626e-16\n",
      "case23.0: Asfop = 0.3948198724340287, 期待値 = 0.394819872434029, 残差 = -2.7755575615628914e-16\n",
      "case24.0: Asfop = 0.2802462306616271, 期待値 = 0.280246230661627, 残差 = 1.1102230246251565e-16\n",
      "case25.0: Asfop = 0.19816401010280588, 期待値 = 0.19816401010280602, 残差 = -1.3877787807814457e-16\n",
      "case26.0: Asfop = 0.00691687769111225, 期待値 = 0.00691687769111225, 残差 = 0.0\n",
      "case27.0: Asfop = 0.07906027378121655, 期待値 = 0.0790602737812166, 残差 = -5.551115123125783e-17\n",
      "case28.0: Asfop = 0.07877142283976622, 期待値 = 0.0787714228397662, 残差 = 2.7755575615628914e-17\n",
      "case29.0: Asfop = 0.055912571468616515, 期待値 = 0.0559125714686165, 残差 = 1.3877787807814457e-17\n",
      "case30.0: Asfop = 0.03953615843903622, 期待値 = 0.0395361584390362, 残差 = 2.0816681711721685e-17\n",
      "case31.0: Asfop = 0.0013800022120937932, 期待値 = 0.00138000221209379, 残差 = 3.2526065174565133e-18\n"
     ]
    }
   ],
   "source": [
    "\"\"\" 式(16) Test \"\"\"\n",
    "# \\確認.xlsx \"式(16)Asf0p\"シート → \\Asf0p.csv を作成 → \\TestConfig01 下に置いて読み込み → 計算\n",
    "\n",
    "import pandas as pd\n",
    "import sys\n",
    "csv_input = pd.read_csv(filepath_or_buffer=\"./TestConfig01/Asf0p.csv\", encoding=\"ms932\", sep=\",\")\n",
    "if csv_input.columns[0]!=\"Asf0p_case\":\n",
    "    sys.exit(\"ファイル内に貼り付けたテスト条件が違います\")\n",
    "for i in range(len(csv_input)):\n",
    "    [case, XX, YY, X1, X2, X3, X1yp, X1ym, X3yp, X3ym, Y1, Y2, Y3, Y1xp, Y1xm, Y3xp, Y3xm, Zxp, Zxm, Zyp, Zym, Azw, hs, Asf0pA] \\\n",
    "        = csv_input.values[i]\n",
    "    Asf0p = calc_Asf0p(XX, YY, X1, X2, X3, X1yp, X1ym, X3yp, X3ym, Y1, Y2, Y3, Y1xp, Y1xm, Y3xp, Y3xm, Zxp, Zxm, Zyp, Zym, Azw, hs)\n",
    "    print('case{}: Asfop = {}, 期待値 = {}, 残差 = {}'.format( case, Asf0p, Asf0pA, Asf0p - Asf0pA ))   "
   ]
  },
  {
   "cell_type": "markdown",
   "metadata": {},
   "source": [
    "#### 6.3.1 c) 式(14)\n",
    "\n",
    "$$ \\begin{align}\n",
    "A_{wind,j,x+,d,t} &= (x_2 + x_3)(y_1 + y_2) - A_{oh0+}(-x_2 / 2, -y_2 / 2) - A_{sf0+}(-x_2 / 2, -y_2 / 2) \\\\\n",
    "&- \\{ (x_2 + x_3) y_1 - A_{oh0+}(-x_2 / 2, y_2 / 2) - A_{sf0+}(-x_2 / 2, y_2 / 2) \\} \\\\\n",
    "&- \\{ x_3 (y_1 + y_2) - A_{oh0+}( x_2 / 2, -y_2 / 2) - A_{sf0+}( x_2 / 2, -y_2 / 2) \\} \\\\\n",
    "&+ x_3 y_1 - A_{oh0+}( x_2 / 2, y_2 / 2) - A_{sf0+}( x_2 / 2, y_2 / 2) \\qquad \\qquad \\qquad (14) \\\\\n",
    "\\end{align} $$"
   ]
  },
  {
   "cell_type": "code",
   "execution_count": 5,
   "metadata": {
    "collapsed": true
   },
   "outputs": [],
   "source": [
    "\"\"\" 式(14) \"\"\"\n",
    "\n",
    "def calc_Axp(X1, X2, X3, X1yp, X1ym, X3yp, X3ym, Y1, Y2, Y3, Y1xp, Y1xm, Y3xp, Y3xm, Zxp, Zxm, Zyp, Zym, Azw, hs):\n",
    "    Axp = ( (X2 + X3) * (Y1 + Y2) \n",
    "           - calc_Aoh0p(-X2/2, -Y2/2, X1, X2, X3, X1yp, X1ym, X3yp, X3ym, Y1, Y2, Y3, Y1xp, Y1xm, Y3xp, Y3xm, Zxp, Zxm, Zyp, Zym, Azw, hs) \n",
    "           - calc_Asf0p(-X2/2, -Y2/2, X1, X2, X3, X1yp, X1ym, X3yp, X3ym, Y1, Y2, Y3, Y1xp, Y1xm, Y3xp, Y3xm, Zxp, Zxm, Zyp, Zym, Azw, hs) )\\\n",
    "        - ( (X2 + X3) * Y1        \n",
    "           - calc_Aoh0p(-X2/2,  Y2/2, X1, X2, X3, X1yp, X1ym, X3yp, X3ym, Y1, Y2, Y3, Y1xp, Y1xm, Y3xp, Y3xm, Zxp, Zxm, Zyp, Zym, Azw, hs) \n",
    "           - calc_Asf0p(-X2/2,  Y2/2, X1, X2, X3, X1yp, X1ym, X3yp, X3ym, Y1, Y2, Y3, Y1xp, Y1xm, Y3xp, Y3xm, Zxp, Zxm, Zyp, Zym, Azw, hs) ) \\\n",
    "        - ( X3 * (Y1 + Y2)        \n",
    "           - calc_Aoh0p( X2/2, -Y2/2, X1, X2, X3, X1yp, X1ym, X3yp, X3ym, Y1, Y2, Y3, Y1xp, Y1xm, Y3xp, Y3xm, Zxp, Zxm, Zyp, Zym, Azw, hs) \n",
    "           - calc_Asf0p( X2/2, -Y2/2, X1, X2, X3, X1yp, X1ym, X3yp, X3ym, Y1, Y2, Y3, Y1xp, Y1xm, Y3xp, Y3xm, Zxp, Zxm, Zyp, Zym, Azw, hs) ) \\\n",
    "        + ( X3 * Y1               \n",
    "           - calc_Aoh0p( X2/2,  Y2/2, X1, X2, X3, X1yp, X1ym, X3yp, X3ym, Y1, Y2, Y3, Y1xp, Y1xm, Y3xp, Y3xm, Zxp, Zxm, Zyp, Zym, Azw, hs) \n",
    "           - calc_Asf0p( X2/2,  Y2/2, X1, X2, X3, X1yp, X1ym, X3yp, X3ym, Y1, Y2, Y3, Y1xp, Y1xm, Y3xp, Y3xm, Zxp, Zxm, Zyp, Zym, Azw, hs) )       \n",
    "    Axp = max(0, min(Axp, X2 * Y2))    #負値は0に、X2*Y2を超える場合はX2*Y2で頭打ち\n",
    "    return Axp\n"
   ]
  },
  {
   "cell_type": "code",
   "execution_count": 6,
   "metadata": {},
   "outputs": [
    {
     "name": "stdout",
     "output_type": "stream",
     "text": [
      "case1.0: Axp = 4.305, 期待値 = 4.305, 残差 = 0.0\n",
      "case2.0: Axp = 6.661338147750939e-16, 期待値 = 6.66133814775094e-16, 残差 = -9.860761315262648e-32\n",
      "case3.0: Axp = 0.5264142670414172, 期待値 = 0.526414267041419, 残差 = -1.7763568394002505e-15\n",
      "case4.0: Axp = 4.305, 期待値 = 4.305, 残差 = 0.0\n",
      "case5.0: Axp = 4.305, 期待値 = 4.305, 残差 = 0.0\n",
      "case6.0: Axp = 4.305, 期待値 = 4.305, 残差 = 0.0\n",
      "case7.0: Axp = 1.887379141862766e-15, 期待値 = 1.8873791418627697e-15, 残差 = -3.549874073494553e-30\n",
      "case8.0: Axp = 0.5264142670414177, 期待値 = 0.5264142670414179, 残差 = -2.220446049250313e-16\n",
      "case9.0: Axp = 4.305, 期待値 = 4.305, 残差 = 0.0\n",
      "case10.0: Axp = 4.304999999999999, 期待値 = 4.305, 残差 = -8.881784197001252e-16\n",
      "case11.0: Axp = 4.305, 期待値 = 4.305, 残差 = 0.0\n",
      "case12.0: Axp = 0.04133413735431657, 期待値 = 0.0413341373543166, 残差 = -2.7755575615628914e-17\n",
      "case13.0: Axp = 0.48453051747710896, 期待値 = 0.484530517477109, 残差 = -5.551115123125783e-17\n",
      "case14.0: Axp = 4.304999999999998, 期待値 = 4.305, 残差 = -1.7763568394002505e-15\n",
      "case15.0: Axp = 4.304999999999999, 期待値 = 4.305, 残差 = -8.881784197001252e-16\n",
      "case16.0: Axp = 4.305, 期待値 = 4.305, 残差 = 0.0\n",
      "case17.0: Axp = 0.046631444366058705, 期待値 = 0.0466314443660587, 残差 = 6.938893903907228e-18\n",
      "case18.0: Axp = 0.046390986044538174, 期待値 = 0.0463909860445386, 残差 = -4.2327252813834093e-16\n",
      "case19.0: Axp = 4.305, 期待値 = 4.305, 残差 = 0.0\n",
      "case20.0: Axp = 4.305, 期待値 = 4.305, 残差 = 0.0\n",
      "case21.0: Axp = 4.305, 期待値 = 4.305, 残差 = 0.0\n",
      "case22.0: Axp = 0, 期待値 = 0.0, 残差 = 0.0\n",
      "case23.0: Axp = 9.992007221626409e-16, 期待値 = 9.99200722162641e-16, 残差 = -1.9721522630525295e-31\n",
      "case24.0: Axp = 9.957312752106873e-16, 期待値 = 9.957312752106869e-16, 残差 = 3.944304526105059e-31\n",
      "case25.0: Axp = 0.5425551914636235, 期待値 = 0.542555191463623, 残差 = 5.551115123125783e-16\n",
      "case26.0: Axp = 1.3215791016607583, 期待値 = 1.32157910166076, 残差 = -1.7763568394002505e-15\n",
      "case27.0: Axp = 0, 期待値 = 0.0, 残差 = 0.0\n",
      "case28.0: Axp = 0, 期待値 = 0.0, 残差 = 0.0\n",
      "case29.0: Axp = 0, 期待値 = 0.0, 残差 = 0.0\n",
      "case30.0: Axp = 0, 期待値 = 0.0, 残差 = 0.0\n",
      "case31.0: Axp = 6.626643678231403e-16, 期待値 = 6.6266436782314e-16, 残差 = 2.9582283945787943e-31\n"
     ]
    }
   ],
   "source": [
    "\"\"\" 式(14) Test \"\"\"\n",
    "# \\確認.xlsx \"式(14)Axp\"シート → \\Axp.csv を作成 → \\TestConfig01 下に置いて読み込み → 計算\n",
    "\n",
    "import pandas as pd\n",
    "import sys\n",
    "csv_input = pd.read_csv(filepath_or_buffer=\"./TestConfig01/Axp.csv\", encoding=\"ms932\", sep=\",\")\n",
    "if csv_input.columns[0]!=\"Axp_case\":\n",
    "    sys.exit(\"ファイル内に貼り付けたテスト条件が違います\")\n",
    "for i in range(len(csv_input)):\n",
    "    [case, X1, X2, X3, X1yp, X1ym, X3yp, X3ym, Y1, Y2, Y3, Y1xp, Y1xm, Y3xp, Y3xm, Zxp, Zxm, Zyp, Zym, Azw, hs, AxpA] \\\n",
    "        = csv_input.values[i]\n",
    "    Axp = calc_Axp(X1, X2, X3, X1yp, X1ym, X3yp, X3ym, Y1, Y2, Y3, Y1xp, Y1xm, Y3xp, Y3xm, Zxp, Zxm, Zyp, Zym, Azw, hs)\n",
    "    print('case{}: Axp = {}, 期待値 = {}, 残差 = {}'.format( case, Axp, AxpA, Axp - AxpA ))"
   ]
  },
  {
   "cell_type": "markdown",
   "metadata": {},
   "source": [
    "### 6.3.2 x-側に対する係数の算定"
   ]
  },
  {
   "cell_type": "markdown",
   "metadata": {},
   "source": [
    "#### 6.3.2 a) 式(19)\n",
    "\n",
    "$$\n",
    "A_{oh0-}(x,y) = \\left\\{\n",
    "\\begin{array}{ll}\n",
    "0 \\hspace{24pt}(z_{y+}=0)\n",
    "\\\\\n",
    "\\frac{1}{2} (x_{1y+} + x_2 / 2 + x) \\frac{z_{y+} \\tan h_{S,d,t} / \\cos A_{ZW,j,d,t}}{z_{y+} \\tan A_{ZW,j,d,t}} (x_{1y+} + x_2 / 2 + x)\n",
    "\\\\\n",
    "\\hspace{30pt} \\left( \\begin{array}{ll}\n",
    "x_{1y+} + x_2 / 2 + x < z_{y+} \\tan A_{ZW,j,d,t} \\\\\n",
    "y_{1} + y_2 / 2 - y \\geq \\frac{z_{y+} \\tan h_{S,d,t} / \\cos A_{ZW,j,d,t}}{z_{y+} \\tan A_{ZW,j,d,t}} (x_{1y+} + x_2 / 2 + x) \n",
    "\\end{array} \\right)\n",
    "\\\\\n",
    "\\Bigl\\{ (x_{1y+} + x_2 / 2 + x) - \\frac{1}{2} (y_{1} + y_2 / 2 - y) \\frac{z_{y+} \\tan A_{ZW,j,d,t}}{z_{y+} \\tan h_{S,d,t} / \\cos A_{ZW,j,d,t}} \\Bigr\\} (y_{1} + y_2 / 2 - y)\n",
    "\\\\\n",
    "\\hspace{30pt} \\left( \\begin{array}{ll}\n",
    "x_{1y+} + x_2 / 2 + x > \\frac{z_{y+} \\tan A_{ZW,j,d,t}}{z_{y+} \\tan h_{S,d,t} / \\cos A_{ZW,j,d,t}} (y_{1} + y_2 / 2 - y) \\\\\n",
    "y_{1} + y_2 / 2 - y < z_{y+} \\tan h_{S,d,t} / \\cos A_{ZW,j,d,t}\n",
    "\\end{array} \\right)\n",
    "\\\\\n",
    "( x_{1y+} + x_2 / 2 + x - \\frac{1}{2} z_{y+} \\tan A_{ZW,j,d,t} ) z_{y+} \\tan h_{S,d,t} / \\cos A_{ZW,j,d,t}\n",
    "\\\\\n",
    "\\hspace{30pt} \\left( \\begin{array}{ll}\n",
    "x_{1y+} + x_2 / 2 + x \\geq z_{y+} \\tan A_{ZW,j,d,t} \\\\\n",
    "y_{1} + y_2 / 2 - y \\geq z_{y+} \\tan h_{S,d,t} / \\cos A_{ZW,j,d,t}\n",
    "\\end{array} \\right)\n",
    "\\end{array}\n",
    "\\right.  \\qquad (19) \n",
    "$$\n",
    "\n",
    "- コード中では、座標を入れ替えて、`calc_Aoh0p00`を叩くことで対応\n",
    "  - 式$(15)$の変数 → 式$(19)$の変数\n",
    "  - $x$ → $-x$\n",
    "  - $x_{3y+}$ → $x_{1y+}$\n",
    "  - $A_{ZW,j,d,t}$ → $-A_{ZW,j,d,t}$"
   ]
  },
  {
   "cell_type": "code",
   "execution_count": 7,
   "metadata": {
    "collapsed": true
   },
   "outputs": [],
   "source": [
    "\"\"\" 式(19) \"\"\"\n",
    "import numpy as np\n",
    "\n",
    "def calc_Aoh0m(XX, YY, X1, X2, X3, X1yp, X1ym, X3yp, X3ym, Y1, Y2, Y3, Y1xp, Y1xm, Y3xp, Y3xm, Zxp, Zxm, Zyp, Zym, Azw, hs):\n",
    " \n",
    "    X_th = X1yp + X2 / 2 + XX\n",
    "    Y_th = Y1 + Y2 / 2 - YY\n",
    "    X_th_Z = Zyp * np.tan(abs(np.radians(Azw)))  \n",
    "    Y_th_Z = Zyp * np.tan(np.radians(hs)) / np.cos(np.radians(Azw))\n",
    "        \n",
    "    if X_th_Z == 0 or Y_th_Z <= 0:\n",
    "        Aoh0m = 0    # 式(19)条件1 と 日よけが影を落とさない条件をあわせて処理\n",
    "    else:\n",
    "        Aoh0m = calc_Aoh0p00(X_th, Y_th, X_th_Z, Y_th_Z)\n",
    "    return Aoh0m"
   ]
  },
  {
   "cell_type": "code",
   "execution_count": 8,
   "metadata": {},
   "outputs": [
    {
     "name": "stdout",
     "output_type": "stream",
     "text": [
      "case1.0: Aoh0m = 0, 期待値 = 0.0, 残差 = 0.0\n",
      "case2.0: Aoh0m = 0.009623570258043054, 期待値 = 0.00962357025804305, 残差 = 3.469446951953614e-18\n",
      "case3.0: Aoh0m = 0.009658859417854266, 期待値 = 0.00965885941785427, 残差 = -5.204170427930421e-18\n",
      "case4.0: Aoh0m = 0.010522062047217, 期待値 = 0.010522062047217, 残差 = 0.0\n",
      "case5.0: Aoh0m = 0.009879675452196347, 期待値 = 0.00987967545219635, 残差 = -3.469446951953614e-18\n",
      "case6.0: Aoh0m = 0.010035745745870175, 期待値 = 0.0100357457458702, 残差 = -2.42861286636753e-17\n",
      "case7.0: Aoh0m = 0.09721505443920411, 期待値 = 0.0972150544392041, 残差 = 1.3877787807814457e-17\n",
      "case8.0: Aoh0m = 0.09757153727251575, 期待値 = 0.0975715372725158, 残差 = -5.551115123125783e-17\n",
      "case9.0: Aoh0m = 0.10629140820975215, 期待値 = 0.106291408209752, 残差 = 1.5265566588595902e-16\n",
      "case10.0: Aoh0m = 0.09980216917149039, 期待値 = 0.0998021691714904, 残差 = -1.3877787807814457e-17\n",
      "case11.0: Aoh0m = 0.1013787547513757, 期待値 = 0.10137875475137599, 残差 = -2.914335439641036e-16\n",
      "case12.0: Aoh0m = 0.31831281647451304, 期待値 = 0.318312816474513, 残差 = 5.551115123125783e-17\n",
      "case13.0: Aoh0m = 0.3194800539497253, 期待値 = 0.31948005394972495, 残差 = 3.3306690738754696e-16\n",
      "case14.0: Aoh0m = 0.34803166762044324, 期待値 = 0.34803166762044296, 残差 = 2.7755575615628914e-16\n",
      "case15.0: Aoh0m = 0.3267838478567127, 期待値 = 0.326783847856713, 残差 = -2.7755575615628914e-16\n",
      "case16.0: Aoh0m = 0.3319460873806358, 期待値 = 0.331946087380636, 残差 = -2.220446049250313e-16\n",
      "case17.0: Aoh0m = 0.9549384494235388, 期待値 = 0.954938449423539, 残差 = -2.220446049250313e-16\n",
      "case18.0: Aoh0m = 0.9584401618491757, 期待値 = 0.9584401618491758, 残差 = -1.1102230246251565e-16\n",
      "case19.0: Aoh0m = 1.0440950028613296, 期待値 = 1.0440950028613298, 残差 = -2.220446049250313e-16\n",
      "case20.0: Aoh0m = 0.9803515435701379, 期待値 = 0.9803515435701379, 残差 = 0.0\n",
      "case21.0: Aoh0m = 0.9958382621419073, 期待値 = 0.995838262141907, 残差 = 3.3306690738754696e-16\n",
      "case22.0: Aoh0m = 2.779948832021369, 期待値 = 2.77994883202137, 残差 = -8.881784197001252e-16\n",
      "case23.0: Aoh0m = 2.781415920704013, 期待値 = 2.7814159207040094, 残差 = 3.552713678800501e-15\n",
      "case24.0: Aoh0m = 2.8975171941721025, 期待値 = 2.8975171941721, 残差 = 2.6645352591003757e-15\n",
      "case25.0: Aoh0m = 2.9806938322587113, 期待値 = 2.9806938322587095, 残差 = 1.7763568394002505e-15\n",
      "case26.0: Aoh0m = 3.174490898290931, 期待値 = 3.1744908982909306, 残差 = 4.440892098500626e-16\n",
      "case27.0: Aoh0m = 3.1013856008699716, 期待値 = 3.1013856008699703, 残差 = 1.3322676295501878e-15\n",
      "case28.0: Aoh0m = 3.101678303114799, 期待値 = 3.1016783031147996, 残差 = -4.440892098500626e-16\n",
      "case29.0: Aoh0m = 3.1248419358068653, 期待値 = 3.1248419358068698, 残差 = -4.440892098500626e-15\n",
      "case30.0: Aoh0m = 3.1414366986001316, 期待値 = 3.14143669860013, 残差 = 1.7763568394002505e-15\n",
      "case31.0: Aoh0m = 3.1801015979615004, 期待値 = 3.1801015979615004, 残差 = 0.0\n"
     ]
    }
   ],
   "source": [
    "\"\"\" 式(19) Test \"\"\"\n",
    "# \\確認.xlsx \"式(19)Aoh0m\"シート → \\Aoh0m.csv を作成 → \\TestConfig01 下に置いて読み込み → 計算\n",
    "\n",
    "import pandas as pd\n",
    "import sys\n",
    "csv_input = pd.read_csv(filepath_or_buffer=\"./TestConfig01/Aoh0m.csv\", encoding=\"ms932\", sep=\",\")\n",
    "if csv_input.columns[0]!=\"Aoh0m_case\":\n",
    "    sys.exit(\"ファイル内に貼り付けたテスト条件が違います\")\n",
    "for i in range(len(csv_input)):\n",
    "    [case, XX, YY, X1, X2, X3, X1yp, X1ym, X3yp, X3ym, Y1, Y2, Y3, Y1xp, Y1xm, Y3xp, Y3xm, Zxp, Zxm, Zyp, Zym, Azw, hs, Aoh0mA] \\\n",
    "        = csv_input.values[i]\n",
    "    Aoh0m = calc_Aoh0m(XX, YY, X1, X2, X3, X1yp, X1ym, X3yp, X3ym, Y1, Y2, Y3, Y1xp, Y1xm, Y3xp, Y3xm, Zxp, Zxm, Zyp, Zym, Azw, hs)\n",
    "    print('case{}: Aoh0m = {}, 期待値 = {}, 残差 = {}'.format( case, Aoh0m, Aoh0mA, Aoh0m - Aoh0mA ))"
   ]
  },
  {
   "cell_type": "markdown",
   "metadata": {},
   "source": [
    "#### 6.3.2 b) 式(20)\n",
    "\n",
    "$$\n",
    "A_{sf0-}(x, y) = \\left\\{\n",
    "\\begin{array}{ll}\n",
    "0 \\hspace{24pt}(z_{x-}=0)\n",
    "\\\\\n",
    "\\frac{1}{2} (y_{1x-} + y_2 / 2 - y) \\frac{z_{x-} \\tan A_{ZW,j,d,t}}{z_{x-} \\tan h_{S,d,t} / \\cos A_{ZW,j,d,t}} (y_{1x-} + y_2 / 2 - y)\n",
    "\\\\\n",
    "\\hspace{30pt} \\left( \\begin{array}{ll}\n",
    "y_{1x-} + y_2 / 2 - y < z_{x-} \\tan h_{S,d,t} / \\cos A_{ZW,j,d,t} \\\\\n",
    "x_{1} + x_2 / 2 + x \\geq \\frac{z_{x-} \\tan A_{ZW,j,d,t}}{z_{x-} \\tan h_{S,d,t} / \\cos A_{ZW,j,d,t}} (y_{1x-} + y_2 / 2 - y) \n",
    "\\end{array} \\right)\n",
    "\\\\\n",
    "\\Bigl\\{ (y_{1x-} + y_2 / 2 - y) - \\frac{1}{2} (x_{1} + x_2 / 2 + x) \\frac{z_{x-} \\tan h_{S,d,t} / \\cos A_{ZW,j,d,t}}{z_{x-} \\tan A_{ZW,j,d,t} } \\Bigr\\} (x_{1} + x_2 / 2 + x)\n",
    "\\\\\n",
    "\\hspace{30pt} \\left( \\begin{array}{ll}\n",
    "y_{1x-} + y_2 / 2 - y > \\frac{z_{x-} \\tan h_{S,d,t} / \\cos A_{ZW,j,d,t}}{z_{x-} \\tan A_{ZW,j,d,t}} (x_{1} + x_2 / 2 + x) \\\\\n",
    "x_{1} + x_2 / 2 + x < z_{x-} \\tan A_{ZW,j,d,t}\n",
    "\\end{array} \\right)\n",
    "\\\\\n",
    "( y_{1x-} + y_2 / 2 - y - \\frac{1}{2} z_{x-} \\tan h_{S,d,t} / \\cos A_{ZW,j,d,t} ) \\; z_{x-} \\tan A_{ZW,j,d,t}\n",
    "\\\\\n",
    "\\hspace{30pt} \\left( \\begin{array}{ll}\n",
    "y_{1x-} + y_2 / 2 - y \\geq z_{x-} \\tan h_{S,d,t} / \\cos A_{ZW,j,d,t} \\\\\n",
    "x_{1} + x_2 / 2 + x \\geq z_{x-} \\tan A_{ZW,j,d,t}\n",
    "\\end{array} \\right)\n",
    "\\end{array}\n",
    "\\right.  \\qquad (20) \n",
    "$$\n",
    "\n",
    "- コード中では、座標を入れ替えて、`calc_Aoh0p00`を叩くことで対応\n",
    "  - 式$(15)$の変数 → 式$(16)$の変数 → 式$(20)$の変数\n",
    "  - $x$            → $y$            → $y$\n",
    "  - $x_2$          → $y_2$          → $y_2$\n",
    "  - $x_{3y+}$      → $y_{1x+}$      → $y_{1x-}$\n",
    "  - $y$            → $x$            → $-x$\n",
    "  - $y_1$          → $x_3$          → $x_1$\n",
    "  - $y_2$          → $x_2$          → $x_2$\n",
    "  - $z_{y+} \\tan h_{S,d,t} / \\cos A_{ZW,j,d,t}$ → $z_{x+} \\tan | A_{ZW,j,d,t} |$ → $z_{x-} \\tan A_{ZW,j,d,t}$\n",
    "  - $z_{y+} \\tan | A_{ZW,j,d,t} |$ → $z_{x+} \\tan h_{S,d,t} / \\cos A_{ZW,j,d,t}$ → $z_{x-} \\tan h_{S,d,t} / \\cos A_{ZW,j,d,t}$"
   ]
  },
  {
   "cell_type": "code",
   "execution_count": 9,
   "metadata": {
    "collapsed": true
   },
   "outputs": [],
   "source": [
    "\"\"\" 式(20) \"\"\"\n",
    "import numpy as np\n",
    "\n",
    "def calc_Asf0m(XX, YY, X1, X2, X3, X1yp, X1ym, X3yp, X3ym, Y1, Y2, Y3, Y1xp, Y1xm, Y3xp, Y3xm, Zxp, Zxm, Zyp, Zym, Azw, hs):\n",
    " \n",
    "    X_th = Y1xm + Y2 / 2 - YY\n",
    "    Y_th = X1 + X2 / 2 + XX\n",
    "    X_th_Z = Zxm * np.tan(np.radians(hs)) / np.cos(np.radians(Azw))  \n",
    "    Y_th_Z = Zxm * np.tan(abs(np.radians(Azw)))\n",
    "       \n",
    "    if X_th_Z == 0 or Y_th_Z <= 0:\n",
    "        Asf0m = 0    # 式(20)条件1 と 日よけが影を落とさない条件をあわせて処理\n",
    "    else:\n",
    "        Asf0m = calc_Aoh0p00(X_th, Y_th, X_th_Z, Y_th_Z)\n",
    "    return Asf0m"
   ]
  },
  {
   "cell_type": "code",
   "execution_count": 10,
   "metadata": {},
   "outputs": [
    {
     "name": "stdout",
     "output_type": "stream",
     "text": [
      "case1.0: Asfom = 0, 期待値 = 0.0, 残差 = 0.0\n",
      "case2.0: Asfom = 3.2564380770864116, 期待値 = 3.25643807708641, 残差 = 1.7763568394002505e-15\n",
      "case3.0: Asfom = 3.2563993470334665, 期待値 = 3.2563993470334704, 残差 = -3.9968028886505635e-15\n",
      "case4.0: Asfom = 1.5410625623723546, 期待値 = 1.5410625623723502, 残差 = 4.440892098500626e-15\n",
      "case5.0: Asfom = 0.890086472550928, 期待値 = 0.890086472550928, 残差 = 0.0\n",
      "case6.0: Asfom = 0.02691640336011408, 期待値 = 0.0269164033601141, 残差 = -2.0816681711721685e-17\n",
      "case7.0: Asfom = 3.160305926647223, 期待値 = 3.1603059266472204, 残差 = 2.6645352591003757e-15\n",
      "case8.0: Asfom = 3.159914684716786, 期待値 = 3.1599146847167905, 残差 = -4.440892098500626e-15\n",
      "case9.0: Asfom = 1.510685986181915, 期待値 = 1.51068598618192, 残差 = -4.884981308350689e-15\n",
      "case10.0: Asfom = 0.8757668172086017, 期待値 = 0.8757668172086019, 残差 = -2.220446049250313e-16\n",
      "case11.0: Asfom = 0.026541420477779822, 期待値 = 0.0265414204777798, 残差 = 2.0816681711721685e-17\n",
      "case12.0: Asfom = 2.9176498794247983, 期待値 = 2.9176498794247996, 残差 = -1.3322676295501878e-15\n",
      "case13.0: Asfom = 2.9163688296787598, 期待値 = 2.9163688296787598, 残差 = 0.0\n",
      "case14.0: Asfom = 1.434009662258571, 期待値 = 1.4340096622585703, 残差 = 6.661338147750939e-16\n",
      "case15.0: Asfom = 0.8396212514734998, 期待値 = 0.8396212514735, 残差 = -2.220446049250313e-16\n",
      "case16.0: Asfom = 0.02559489152167515, 期待値 = 0.0255948915216751, 残差 = 4.85722573273506e-17\n",
      "case17.0: Asfom = 2.218949638274393, 期待値 = 2.21894963827439, 残差 = 3.1086244689504383e-15\n",
      "case18.0: Asfom = 2.2151064890362786, 期待値 = 2.21510648903628, 残差 = -1.3322676295501878e-15\n",
      "case19.0: Asfom = 1.213228986775714, 期待値 = 1.21322898677571, 残差 = 3.9968028886505635e-15\n",
      "case20.0: Asfom = 0.7355442429475834, 期待値 = 0.735544242947583, 残差 = 3.3306690738754696e-16\n",
      "case21.0: Asfom = 0.022869470014746977, 期待値 = 0.022869470014746998, 残差 = -2.0816681711721685e-17\n",
      "case22.0: Asfom = 0.3858056070344631, 期待値 = 0.385805607034463, 残差 = 1.1102230246251565e-16\n",
      "case23.0: Asfom = 0.3843960456014088, 期待値 = 0.384396045601409, 残差 = -2.220446049250313e-16\n",
      "case24.0: Asfom = 0.272847316921794, 期待値 = 0.272847316921794, 残差 = 0.0\n",
      "case25.0: Asfom = 0.19293218802395565, 期待値 = 0.192932188023956, 残差 = -3.608224830031759e-16\n",
      "case26.0: Asfom = 0.006734261920456952, 期待値 = 0.00673426192045695, 残差 = 1.734723475976807e-18\n",
      "case27.0: Asfom = 0.07697296597131743, 期待値 = 0.0769729659713174, 残差 = 2.7755575615628914e-17\n",
      "case28.0: Asfom = 0.07669174112066025, 期待値 = 0.0766917411206603, 残差 = -4.163336342344337e-17\n",
      "case29.0: Asfom = 0.054436397133311935, 期待値 = 0.0544363971333119, 残差 = 3.469446951953614e-17\n",
      "case30.0: Asfom = 0.038492345556328814, 期待値 = 0.0384923455563288, 残差 = 1.3877787807814457e-17\n",
      "case31.0: Asfom = 0.0013435681187468286, 期待値 = 0.0013435681187468301, 残差 = -1.5178830414797062e-18\n"
     ]
    }
   ],
   "source": [
    "\"\"\" 式(20) Test \"\"\"\n",
    "# \\確認.xlsx \"式(20)Asf0m\"シート → \\Asf0m.csv を作成 → \\TestConfig01 下に置いて読み込み → 計算\n",
    "\n",
    "import pandas as pd\n",
    "import sys\n",
    "csv_input = pd.read_csv(filepath_or_buffer=\"./TestConfig01/Asf0m.csv\", encoding=\"ms932\", sep=\",\")\n",
    "if csv_input.columns[0]!=\"Asf0m_case\":\n",
    "    sys.exit(\"ファイル内に貼り付けたテスト条件が違います\")\n",
    "for i in range(len(csv_input)):\n",
    "    [case, XX, YY, X1, X2, X3, X1yp, X1ym, X3yp, X3ym, Y1, Y2, Y3, Y1xp, Y1xm, Y3xp, Y3xm, Zxp, Zxm, Zyp, Zym, Azw, hs, Asf0mA] \\\n",
    "        = csv_input.values[i]\n",
    "    Asf0m = calc_Asf0m(XX, YY, X1, X2, X3, X1yp, X1ym, X3yp, X3ym, Y1, Y2, Y3, Y1xp, Y1xm, Y3xp, Y3xm, Zxp, Zxm, Zyp, Zym, Azw, hs)\n",
    "    print('case{}: Asfom = {}, 期待値 = {}, 残差 = {}'.format( case, Asf0m, Asf0mA, Asf0m - Asf0mA ))"
   ]
  },
  {
   "cell_type": "markdown",
   "metadata": {},
   "source": [
    "#### 6.3.2 c) 式(18)\n",
    "\n",
    "$$ \\begin{align}\n",
    "A_{wind,j,x-,d,t} &= (x_1 + x_2)(y_1 + y_2) - A_{oh0-}( x_2 / 2, -y_2 / 2) - A_{sf0-}( x_2 / 2, -y_2 / 2) \\\\\n",
    "&- \\{ (x_1 + x_2) y_1 - A_{oh0-}( x_2 / 2, y_2 / 2) - A_{sf0-}( x_2 / 2, y_2 / 2) \\} \\\\\n",
    "&- \\{ x_1 (y_1 + y_2) - A_{oh0-}(-x_2 / 2, -y_2 / 2) - A_{sf0-}(-x_2 / 2, -y_2 / 2) \\} \\\\\n",
    "&+ x_1 y_1 - A_{oh0-}(-x_2 / 2, y_2 / 2) - A_{sf0-}(-x_2 / 2, y_2 / 2) \\qquad \\qquad \\qquad (18) \\\\\n",
    "\\end{align} $$"
   ]
  },
  {
   "cell_type": "code",
   "execution_count": 11,
   "metadata": {
    "collapsed": true
   },
   "outputs": [],
   "source": [
    "\"\"\" 式(18) \"\"\"\n",
    "\n",
    "def calc_Axm(X1, X2, X3, X1yp, X1ym, X3yp, X3ym, Y1, Y2, Y3, Y1xp, Y1xm, Y3xp, Y3xm, Zxp, Zxm, Zyp, Zym, Azw, hs):\n",
    "    Axm = ( (X1 + X2) * (Y1 + Y2) \n",
    "           - calc_Aoh0m( X2/2, -Y2/2, X1, X2, X3, X1yp, X1ym, X3yp, X3ym, Y1, Y2, Y3, Y1xp, Y1xm, Y3xp, Y3xm, Zxp, Zxm, Zyp, Zym, Azw, hs) \n",
    "           - calc_Asf0m( X2/2, -Y2/2, X1, X2, X3, X1yp, X1ym, X3yp, X3ym, Y1, Y2, Y3, Y1xp, Y1xm, Y3xp, Y3xm, Zxp, Zxm, Zyp, Zym, Azw, hs) )\\\n",
    "        - ( (X1 + X2) * Y1        \n",
    "           - calc_Aoh0m( X2/2,  Y2/2, X1, X2, X3, X1yp, X1ym, X3yp, X3ym, Y1, Y2, Y3, Y1xp, Y1xm, Y3xp, Y3xm, Zxp, Zxm, Zyp, Zym, Azw, hs) \n",
    "           - calc_Asf0m( X2/2,  Y2/2, X1, X2, X3, X1yp, X1ym, X3yp, X3ym, Y1, Y2, Y3, Y1xp, Y1xm, Y3xp, Y3xm, Zxp, Zxm, Zyp, Zym, Azw, hs) ) \\\n",
    "        - ( X1 * (Y1 + Y2)        \n",
    "           - calc_Aoh0m(-X2/2, -Y2/2, X1, X2, X3, X1yp, X1ym, X3yp, X3ym, Y1, Y2, Y3, Y1xp, Y1xm, Y3xp, Y3xm, Zxp, Zxm, Zyp, Zym, Azw, hs) \n",
    "           - calc_Asf0m(-X2/2, -Y2/2, X1, X2, X3, X1yp, X1ym, X3yp, X3ym, Y1, Y2, Y3, Y1xp, Y1xm, Y3xp, Y3xm, Zxp, Zxm, Zyp, Zym, Azw, hs) ) \\\n",
    "        + ( X1 * Y1               \n",
    "           - calc_Aoh0m(-X2/2,  Y2/2, X1, X2, X3, X1yp, X1ym, X3yp, X3ym, Y1, Y2, Y3, Y1xp, Y1xm, Y3xp, Y3xm, Zxp, Zxm, Zyp, Zym, Azw, hs) \n",
    "           - calc_Asf0m(-X2/2,  Y2/2, X1, X2, X3, X1yp, X1ym, X3yp, X3ym, Y1, Y2, Y3, Y1xp, Y1xm, Y3xp, Y3xm, Zxp, Zxm, Zyp, Zym, Azw, hs) )       \n",
    "    Axm = max(0, min(Axm, X2 * Y2))    #負値は0に、X2*Y2を超える場合はX2*Y2で頭打ち\n",
    "    return Axm"
   ]
  },
  {
   "cell_type": "code",
   "execution_count": 12,
   "metadata": {},
   "outputs": [
    {
     "name": "stdout",
     "output_type": "stream",
     "text": [
      "case1.0: Axm = 4.305, 期待値 = 4.305, 残差 = 0.0\n",
      "case2.0: Axm = 6.661338147750939e-16, 期待値 = 6.66133814775094e-16, 残差 = -9.860761315262648e-32\n",
      "case3.0: Axm = 0.5264142670414172, 期待値 = 0.526414267041419, 残差 = -1.7763568394002505e-15\n",
      "case4.0: Axm = 4.305, 期待値 = 4.305, 残差 = 0.0\n",
      "case5.0: Axm = 4.305, 期待値 = 4.305, 残差 = 0.0\n",
      "case6.0: Axm = 4.305, 期待値 = 4.305, 残差 = 0.0\n",
      "case7.0: Axm = 1.887379141862766e-15, 期待値 = 1.8873791418627697e-15, 残差 = -3.549874073494553e-30\n",
      "case8.0: Axm = 0.5264142670414177, 期待値 = 0.5264142670414179, 残差 = -2.220446049250313e-16\n",
      "case9.0: Axm = 4.305, 期待値 = 4.305, 残差 = 0.0\n",
      "case10.0: Axm = 4.304999999999999, 期待値 = 4.305, 残差 = -8.881784197001252e-16\n",
      "case11.0: Axm = 4.305, 期待値 = 4.305, 残差 = 0.0\n",
      "case12.0: Axm = 0.04133413735431657, 期待値 = 0.0413341373543166, 残差 = -2.7755575615628914e-17\n",
      "case13.0: Axm = 0.48453051747710896, 期待値 = 0.484530517477109, 残差 = -5.551115123125783e-17\n",
      "case14.0: Axm = 4.304999999999998, 期待値 = 4.305, 残差 = -1.7763568394002505e-15\n",
      "case15.0: Axm = 4.304999999999999, 期待値 = 4.305, 残差 = -8.881784197001252e-16\n",
      "case16.0: Axm = 4.305, 期待値 = 4.305, 残差 = 0.0\n",
      "case17.0: Axm = 0.046631444366058705, 期待値 = 0.0466314443660587, 残差 = 6.938893903907228e-18\n",
      "case18.0: Axm = 0.046390986044538174, 期待値 = 0.0463909860445386, 残差 = -4.2327252813834093e-16\n",
      "case19.0: Axm = 4.305, 期待値 = 4.305, 残差 = 0.0\n",
      "case20.0: Axm = 4.305, 期待値 = 4.305, 残差 = 0.0\n",
      "case21.0: Axm = 4.305, 期待値 = 4.305, 残差 = 0.0\n",
      "case22.0: Axm = 0, 期待値 = 0.0, 残差 = 0.0\n",
      "case23.0: Axm = 9.992007221626409e-16, 期待値 = 9.99200722162641e-16, 残差 = -1.9721522630525295e-31\n",
      "case24.0: Axm = 9.957312752106873e-16, 期待値 = 9.957312752106869e-16, 残差 = 3.944304526105059e-31\n",
      "case25.0: Axm = 0.5425551914636235, 期待値 = 0.542555191463623, 残差 = 5.551115123125783e-16\n",
      "case26.0: Axm = 1.3215791016607583, 期待値 = 1.32157910166076, 残差 = -1.7763568394002505e-15\n",
      "case27.0: Axm = 0, 期待値 = 0.0, 残差 = 0.0\n",
      "case28.0: Axm = 0, 期待値 = 0.0, 残差 = 0.0\n",
      "case29.0: Axm = 0, 期待値 = 0.0, 残差 = 0.0\n",
      "case30.0: Axm = 0, 期待値 = 0.0, 残差 = 0.0\n",
      "case31.0: Axm = 6.626643678231403e-16, 期待値 = 6.6266436782314e-16, 残差 = 2.9582283945787943e-31\n"
     ]
    }
   ],
   "source": [
    "\"\"\" 式(18) Test \"\"\"\n",
    "# \\確認.xlsx \"式(18)Axm\"シート → \\Axm.csv を作成 → \\TestConfig01 下に置いて読み込み → 計算\n",
    "\n",
    "import pandas as pd\n",
    "import sys\n",
    "csv_input = pd.read_csv(filepath_or_buffer=\"./TestConfig01/Axm.csv\", encoding=\"ms932\", sep=\",\")\n",
    "if csv_input.columns[0]!=\"Axm_case\":\n",
    "    sys.exit(\"ファイル内に貼り付けたテスト条件が違います\")\n",
    "for i in range(len(csv_input)):\n",
    "    [case, X1, X2, X3, X1yp, X1ym, X3yp, X3ym, Y1, Y2, Y3, Y1xp, Y1xm, Y3xp, Y3xm, Zxp, Zxm, Zyp, Zym, Azw, hs, AxmA] \\\n",
    "        = csv_input.values[i]\n",
    "    Axm = calc_Axm(X1, X2, X3, X1yp, X1ym, X3yp, X3ym, Y1, Y2, Y3, Y1xp, Y1xm, Y3xp, Y3xm, Zxp, Zxm, Zyp, Zym, Azw, hs)\n",
    "    print('case{}: Axm = {}, 期待値 = {}, 残差 = {}'.format( case, Axm, AxmA, Axm - AxmA ))"
   ]
  },
  {
   "cell_type": "markdown",
   "metadata": {},
   "source": [
    "## 6.4 天空日射に対する日よけ効果係数\n"
   ]
  },
  {
   "cell_type": "markdown",
   "metadata": {},
   "source": [
    "#### 6.4 a) 式(23)\n",
    "\n",
    "$$ \\begin{align}\n",
    "f_{A}(x_a,x_b,y_a,y_b,z_a) &= \\frac{x_b \\sqrt{y_b^2+z_a^2}}{2} \\tan^{-1} \\frac{x_b}{\\sqrt{y_b^2+z_a^2}}\n",
    "- \\frac{x_b \\sqrt{y_a^2+z_a^2}}{2} \\tan^{-1} \\frac{x_b}{\\sqrt{y_a^2+z_a^2}} \\\\\n",
    "&- \\frac{x_a \\sqrt{y_b^2+z_a^2}}{2} \\tan^{-1} \\frac{x_a}{\\sqrt{y_b^2+z_a^2}}\n",
    "+ \\frac{x_a \\sqrt{y_a^2+z_a^2}}{2} \\tan^{-1} \\frac{x_a}{\\sqrt{y_a^2+z_a^2}} \\\\\n",
    "&+ \\frac{x_b^2 - y_b^2 - z_a^2}{8} \\log (x_b^2 + y_b^2 + z_a^2) - \\frac{x_b^2 - y_a^2 - z_a^2}{8} \\log (x_b^2 + y_a^2 + z_a^2) \\\\\n",
    "&- \\frac{x_a^2 - y_b^2 - z_a^2}{8} \\log (x_a^2 + y_b^2 + z_a^2) + \\frac{x_a^2 - y_a^2 - z_a^2}{8} \\log (x_a^2 + y_a^2 + z_a^2) \n",
    "\\qquad \\qquad \\qquad (23) \\\\\n",
    "\\end{align} $$"
   ]
  },
  {
   "cell_type": "code",
   "execution_count": 13,
   "metadata": {
    "collapsed": true
   },
   "outputs": [],
   "source": [
    "\"\"\" 式(23) \"\"\"\n",
    "\n",
    "def calc_fa_atan(x, y, z):\n",
    "    import numpy as np\n",
    "\n",
    "    if y**2 + z**2 > 0:\n",
    "        fa_atan = x * ( y**2 + z**2 ) **0.5 / 2 * np.arctan( x / ( y**2 + z**2 ) **0.5 )\n",
    "    else:\n",
    "        fa_atan = 0\n",
    "    \n",
    "    return fa_atan\n",
    "\n",
    "def calc_fa_log(x, y, z):\n",
    "    import numpy as np\n",
    "    \n",
    "    if x**2 + y**2 + z**2 > 0:\n",
    "        fa_log = ( x**2 - y**2 - z**2 ) / 8 * np.log( x**2 + y**2 + z**2 )\n",
    "    else:\n",
    "        fa_log = 0\n",
    "        \n",
    "    return fa_log\n",
    "\n",
    "def calc_fa(xa, xb, ya, yb, za):\n",
    "    \n",
    "    fa = ( calc_fa_atan(xb, yb, za) - calc_fa_atan(xb, ya, za)\n",
    "         - calc_fa_atan(xa, yb, za) + calc_fa_atan(xa, ya, za)\n",
    "         + calc_fa_log(xb, yb, za) - calc_fa_log(xb, ya, za)\n",
    "         - calc_fa_log(xa, yb, za) + calc_fa_log(xa, ya, za) )\n",
    "  \n",
    "    return fa    "
   ]
  },
  {
   "cell_type": "code",
   "execution_count": 14,
   "metadata": {},
   "outputs": [
    {
     "name": "stdout",
     "output_type": "stream",
     "text": [
      "case1.0: fA = 0.3926990816987242, 期待値 = 0.39269908169872403, 残差 = 1.6653345369377348e-16\n",
      "case2.0: fA = 0.39269908169872403, 期待値 = 0.39269908169872403, 残差 = 0.0\n",
      "case3.0: fA = 1.017540754196072, 期待値 = 1.01754075419607, 残差 = 1.9984014443252818e-15\n",
      "case4.0: fA = 0.5532555723979637, 期待値 = 0.553255572397964, 残差 = -2.220446049250313e-16\n",
      "case5.0: fA = 1.0175407543969328, 期待値 = 1.0175407543969301, 残差 = 2.6645352591003757e-15\n",
      "case6.0: fA = 0.3910766477525088, 期待値 = 0.39107664775250894, 残差 = -1.6653345369377348e-16\n",
      "case7.0: fA = 0.38630341771489735, 期待値 = 0.386303417714897, 残差 = 3.3306690738754696e-16\n",
      "case8.0: fA = 0.35635255408894345, 期待値 = 0.356352554088943, 残差 = 4.440892098500626e-16\n",
      "case9.0: fA = 0.2816973811292216, 期待値 = 0.281697381129222, 残差 = -3.885780586188048e-16\n",
      "case10.0: fA = 0.15758009011614416, 期待値 = 0.15758009011614402, 残差 = 1.3877787807814457e-16\n",
      "case11.0: fA = 0.484524567192072, 期待値 = 0.48452456719207204, 残差 = -5.551115123125783e-17\n",
      "case12.0: fA = 0.8752111581280538, 期待値 = 0.8752111581280542, 残差 = -3.3306690738754696e-16\n",
      "case13.0: fA = 0.30616846092104144, 期待値 = 0.306168460921042, 残差 = -5.551115123125783e-16\n",
      "case14.0: fA = 0.4933490722946045, 期待値 = 0.493349072294605, 残差 = -4.996003610813204e-16\n",
      "case15.0: fA = 0.18749155959450392, 期待値 = 0.187491559594504, 残差 = -8.326672684688674e-17\n",
      "case16.0: fA = 0.261560445816157, 期待値 = 0.26156044581615695, 残差 = 5.551115123125783e-17\n",
      "case17.0: fA = 0.35635255408894345, 期待値 = 0.356352554088943, 残差 = 4.440892098500626e-16\n",
      "case18.0: fA = 0.8004986147627889, 期待値 = 0.800498614762789, 残差 = -1.1102230246251565e-16\n",
      "case19.0: fA = 0.32799969175688065, 期待値 = 0.32799969175688004, 残差 = 6.106226635438361e-16\n",
      "case20.0: fA = 0.7354129133020002, 期待値 = 0.735412913302, 残差 = 2.220446049250313e-16\n",
      "case21.0: fA = 0.2971738359878719, 期待値 = 0.297173835987872, 残差 = -1.1102230246251565e-16\n",
      "case22.0: fA = 0.667497622303033, 期待値 = 0.667497622303033, 残差 = 0.0\n"
     ]
    }
   ],
   "source": [
    "\"\"\" 式(23) Test \"\"\"\n",
    "# \\確認.xlsx \"式(23)fA\"シート → \\fA.csv を作成 → \\TestConfig01 下に置いて読み込み → 計算\n",
    "\n",
    "import pandas as pd\n",
    "import sys\n",
    "csv_input = pd.read_csv(filepath_or_buffer=\"./TestConfig01/fA.csv\", encoding=\"ms932\", sep=\",\")\n",
    "if csv_input.columns[0]!=\"fA_case\":\n",
    "    sys.exit(\"ファイル内に貼り付けたテスト条件が違います\")\n",
    "for i in range(len(csv_input)):\n",
    "    [case, xa, xb, ya, yb, za, fAA] = csv_input.values[i]\n",
    "    fA = calc_fa(xa, xb, ya, yb, za)\n",
    "    print('case{}: fA = {}, 期待値 = {}, 残差 = {}'.format( case, fA, fAA, fA - fAA ))"
   ]
  },
  {
   "cell_type": "markdown",
   "metadata": {},
   "source": [
    "#### 6.4 b) 式(22)\n",
    "\n",
    "$$ \\begin{align}\n",
    "\\phi_{j,y+} = \\{ & f_A(x_{3y+}, x_2 + x_{3y+}, y_1, y_1 + y_2, z_{y+}) + f_A(y_{1x+}, y_{1x+} + y_2, x_{3}, x_2 + x_{3}, z_{x+}) \\\\\n",
    "+ & f_A(x_{1y+}, x_{1y+} + x_2, y_1, y_1 + y_2, z_{y+}) + f_A(y_{1x-}, y_{1x-} + y_2, x_{1}, x_1 + x_2, z_{x-}) \\\\ \n",
    "+ & f_A(x_{3}, x_2 + x_{3}, y_1, y_1 + y_2, 0) + f_A(y_{1}, y_{1} + y_2, x_{3}, x_2 + x_{3}, 0) \\\\\n",
    "+ & f_A(x_{1}, x_{1} + x_2, y_1, y_1 + y_2, 0) + f_A(y_{1}, y_{1} + y_2, x_{1}, x_1 + x_2, 0) \\\\ \n",
    "- & f_A(x_{3y+}, x_2 + x_{3y+}, y_1, y_1 + y_2, 0) - f_A(y_{1x+}, y_{1x+} + y_2, x_{3}, x_2 + x_{3}, 0) \\\\\n",
    "- & f_A(x_{1y+}, x_{1y+} + x_2, y_1, y_1 + y_2, 0) - f_A(y_{1x-}, y_{1x-} + y_2, x_{1}, x_1 + x_2, 0) \\qquad (22) \\\\\n",
    "\\end{align} $$"
   ]
  },
  {
   "cell_type": "code",
   "execution_count": 15,
   "metadata": {
    "collapsed": true
   },
   "outputs": [],
   "source": [
    "\"\"\" 式(22) \"\"\"\n",
    "\n",
    "def calc_phiyp(X1, X2, X3, X1yp, X1ym, X3yp, X3ym, Y1, Y2, Y3, Y1xp, Y1xm, Y3xp, Y3xm, Zxp, Zxm, Zyp, Zym):\n",
    "    import numpy as np\n",
    "    \n",
    "    phiyp = ( 1 / ( np.pi * X2 * Y2 )\n",
    "            * ( calc_fa(X3yp, X2 + X3yp, Y1, Y1 + Y2, Zyp) + calc_fa(Y1xp, Y1xp + Y2, X3, X2 + X3, Zxp) \n",
    "              + calc_fa(X1yp, X1yp + X2, Y1, Y1 + Y2, Zyp) + calc_fa(Y1xm, Y1xm + Y2, X1, X1 + X2, Zxm)  \n",
    "              + calc_fa(X3,   X2  +  X3, Y1, Y1 + Y2, 0  ) + calc_fa(Y1,   Y1  +  Y2, X3, X2 + X3, 0  ) \n",
    "              + calc_fa(X1,   X1  +  X2, Y1, Y1 + Y2, 0  ) + calc_fa(Y1,   Y1  +  Y2, X1, X1 + X2, 0  )     \n",
    "              - calc_fa(X3yp, X2 + X3yp, Y1, Y1 + Y2, 0  ) - calc_fa(Y1xp, Y1xp + Y2, X3, X2 + X3, 0  ) \n",
    "              - calc_fa(X1yp, X1yp + X2, Y1, Y1 + Y2, 0  ) - calc_fa(Y1xm, Y1xm + Y2, X1, X1 + X2, 0  ) ) ) \n",
    "    \n",
    "    return phiyp     "
   ]
  },
  {
   "cell_type": "code",
   "execution_count": 16,
   "metadata": {},
   "outputs": [
    {
     "name": "stdout",
     "output_type": "stream",
     "text": [
      "case1.0: phiyp = 0.5000000000000002, 期待値 = 0.5, 残差 = 2.220446049250313e-16\n",
      "case2.0: phiyp = 0.4985317104851181, 期待値 = 0.49853171048511796, 残差 = 1.1102230246251565e-16\n",
      "case3.0: phiyp = 0.4942063220429605, 期待値 = 0.49420632204296, 残差 = 4.996003610813204e-16\n",
      "case4.0: phiyp = 0.477988157781625, 期待値 = 0.477988157781625, 残差 = 0.0\n",
      "case5.0: phiyp = 0.30845256398716436, 期待値 = 0.30845256398716403, 残差 = 3.3306690738754696e-16\n",
      "case6.0: phiyp = 0.05934034945735664, 期待値 = 0.0593403494573566, 残差 = 4.163336342344337e-17\n",
      "case7.0: phiyp = 0.5, 期待値 = 0.5, 残差 = 0.0\n",
      "case8.0: phiyp = 0.45454757553749914, 期待値 = 0.45454757553749897, 残差 = 1.6653345369377348e-16\n",
      "case9.0: phiyp = 0.41466359408294007, 期待値 = 0.41466359408294, 残差 = 5.551115123125783e-17\n",
      "case10.0: phiyp = 0.34718878513135915, 期待値 = 0.34718878513135903, 残差 = 1.1102230246251565e-16\n",
      "case11.0: phiyp = 0.13524984778837892, 期待値 = 0.135249847788379, 残差 = -8.326672684688674e-17\n",
      "case12.0: phiyp = 0.015565558189019774, 期待値 = 0.0155655581890198, 残差 = -2.6020852139652106e-17\n",
      "case13.0: phiyp = 0.5000000000000004, 期待値 = 0.5, 残差 = 4.440892098500626e-16\n",
      "case14.0: phiyp = 0.4988149020864784, 期待値 = 0.49881490208647794, 残差 = 4.440892098500626e-16\n",
      "case15.0: phiyp = 0.4953142323478563, 期待値 = 0.49531423234785604, 残差 = 2.7755575615628914e-16\n",
      "case16.0: phiyp = 0.4820690981543334, 期待値 = 0.4820690981543329, 残差 = 4.996003610813204e-16\n",
      "case17.0: phiyp = 0.3360532244631214, 期待値 = 0.33605322446312097, 残差 = 4.440892098500626e-16\n",
      "case18.0: phiyp = 0.08859414937578464, 期待値 = 0.0885941493757846, 残差 = 4.163336342344337e-17\n"
     ]
    }
   ],
   "source": [
    "\"\"\" 式(22) Test \"\"\"\n",
    "# \\確認.xlsx \"式(22)phiyp\"シート → \\phiyp.csv を作成 → \\TestConfig01 下に置いて読み込み → 計算\n",
    "\n",
    "import pandas as pd\n",
    "import sys\n",
    "csv_input = pd.read_csv(filepath_or_buffer=\"./TestConfig01/phiyp.csv\", encoding=\"ms932\", sep=\",\")\n",
    "if csv_input.columns[0]!=\"phiyp_case\":\n",
    "    sys.exit(\"ファイル内に貼り付けたテスト条件が違います\")\n",
    "for i in range(len(csv_input)):\n",
    "    [case, X1, X2, X3, X1yp, X1ym, X3yp, X3ym, Y1, Y2, Y3, Y1xp, Y1xm, Y3xp, Y3xm, Zxp, Zxm, Zyp, Zym, phiypA] \\\n",
    "        = csv_input.values[i]\n",
    "    phiyp = calc_phiyp(X1, X2, X3, X1yp, X1ym, X3yp, X3ym, Y1, Y2, Y3, Y1xp, Y1xm, Y3xp, Y3xm, Zxp, Zxm, Zyp, Zym)\n",
    "    print('case{}: phiyp = {}, 期待値 = {}, 残差 = {}'.format( case, phiyp, phiypA, phiyp - phiypA ))"
   ]
  },
  {
   "cell_type": "markdown",
   "metadata": {},
   "source": [
    "#### 6.4 c) 式(21)\n",
    "\n",
    "$$\\gamma_{isr,j,y+} = 2 \\phi_{j,y+} \\qquad (21) $$"
   ]
  },
  {
   "cell_type": "code",
   "execution_count": 17,
   "metadata": {
    "collapsed": true
   },
   "outputs": [],
   "source": [
    "\"\"\" 式(21) \"\"\"\n",
    "\n",
    "def calc_gammayp(X1, X2, X3, X1yp, X1ym, X3yp, X3ym, Y1, Y2, Y3, Y1xp, Y1xm, Y3xp, Y3xm, Zxp, Zxm, Zyp, Zym):\n",
    "    \n",
    "    gammayp = 2 * calc_phiyp(X1, X2, X3, X1yp, X1ym, X3yp, X3ym, Y1, Y2, Y3, Y1xp, Y1xm, Y3xp, Y3xm, Zxp, Zxm, Zyp, Zym)\n",
    "         \n",
    "    return gammayp     "
   ]
  },
  {
   "cell_type": "markdown",
   "metadata": {},
   "source": [
    "## 6.5 反射日射に対する日よけ効果係数"
   ]
  },
  {
   "cell_type": "markdown",
   "metadata": {},
   "source": [
    "#### 6.5 a) 式(25)\n",
    "\n",
    "$$ \\begin{align}\n",
    "\\phi_{j,y-} = \\{ & f_A(x_{3y-}, x_2 + x_{3y-}, y_3, y_2 + y_3, z_{y-}) + f_A(y_{3x+}, y_2 + y_{3x+}, x_{3}, x_2 + x_{3}, z_{x+}) \\\\\n",
    "+ & f_A(x_{1y-}, x_{1y-} + x_2, y_3, y_2 + y_3, z_{y-}) + f_A(y_{3x-}, y_2 + y_{3x-}, x_{1}, x_1 + x_2, z_{x-}) \\\\ \n",
    "+ & f_A(x_{3}, x_2 + x_{3}, y_3, y_2 + y_3, 0) + f_A(y_{3}, y_{2} + y_3, x_{3}, x_2 + x_{3}, 0) \\\\\n",
    "+ & f_A(x_{1}, x_{1} + x_2, y_3, y_2 + y_3, 0) + f_A(y_{3}, y_{2} + y_3, x_{1}, x_1 + x_2, 0) \\\\ \n",
    "- & f_A(x_{3y-}, x_2 + x_{3y-}, y_3, y_2 + y_3, 0) - f_A(y_{3x+}, y_2 + y_{3x+}, x_{3}, x_2 + x_{3}, 0) \\\\\n",
    "- & f_A(x_{1y-}, x_{1y-} + x_2, y_3, y_2 + y_3, 0) - f_A(y_{3x-}, y_2 + y_{3x-}, x_{1}, x_1 + x_2, 0) \\qquad (25) \\\\\n",
    "\\end{align} $$"
   ]
  },
  {
   "cell_type": "code",
   "execution_count": 18,
   "metadata": {
    "collapsed": true
   },
   "outputs": [],
   "source": [
    "\"\"\" 式(25) \"\"\"\n",
    "\n",
    "def calc_phiym(X1, X2, X3, X1yp, X1ym, X3yp, X3ym, Y1, Y2, Y3, Y1xp, Y1xm, Y3xp, Y3xm, Zxp, Zxm, Zyp, Zym):\n",
    "    import numpy as np\n",
    "    \n",
    "    phiym = ( 1 / ( np.pi * X2 * Y2 )\n",
    "            * ( calc_fa(X3ym, X2 + X3ym, Y3, Y2 + Y3, Zym) + calc_fa(Y3xp, Y2 + Y3xp, X3, X2 + X3, Zxp) \n",
    "              + calc_fa(X1ym, X1ym + X2, Y3, Y2 + Y3, Zym) + calc_fa(Y3xm, Y2 + Y3xm, X1, X1 + X2, Zxm)  \n",
    "              + calc_fa(X3,   X2  +  X3, Y3, Y2 + Y3, 0  ) + calc_fa(Y3,   Y2  +  Y3, X3, X2 + X3, 0  ) \n",
    "              + calc_fa(X1,   X1  +  X2, Y3, Y2 + Y3, 0  ) + calc_fa(Y3,   Y2  +  Y3, X1, X1 + X2, 0  )     \n",
    "              - calc_fa(X3ym, X2 + X3ym, Y3, Y2 + Y3, 0  ) - calc_fa(Y3xp, Y2 + Y3xp, X3, X2 + X3, 0  ) \n",
    "              - calc_fa(X1ym, X1ym + X2, Y3, Y2 + Y3, 0  ) - calc_fa(Y3xm, Y2 + Y3xm, X1, X1 + X2, 0  ) ) ) \n",
    "        \n",
    "    return phiym    "
   ]
  },
  {
   "cell_type": "code",
   "execution_count": 19,
   "metadata": {},
   "outputs": [
    {
     "name": "stdout",
     "output_type": "stream",
     "text": [
      "case1.0: phiym = 0.5, 期待値 = 0.5, 残差 = 0.0\n",
      "case2.0: phiym = 0.4981403380408517, 期待値 = 0.498140338040852, 残差 = -2.7755575615628914e-16\n",
      "case3.0: phiym = 0.49268111920450114, 期待値 = 0.4926811192045011, 残差 = 5.551115123125783e-17\n",
      "case4.0: phiym = 0.47245663589823916, 期待値 = 0.472456635898239, 残差 = 1.6653345369377348e-16\n",
      "case5.0: phiym = 0.27960145072446174, 期待値 = 0.27960145072446196, 残差 = -2.220446049250313e-16\n",
      "case6.0: phiym = 0.04702694222229747, 期待値 = 0.0470269422222975, 残差 = -3.469446951953614e-17\n",
      "case7.0: phiym = 0.5, 期待値 = 0.5, 残差 = 0.0\n",
      "case8.0: phiym = 0.4482669006200264, 期待値 = 0.448266900620026, 残差 = 3.885780586188048e-16\n",
      "case9.0: phiym = 0.40352744336645047, 期待値 = 0.40352744336645097, 残差 = -4.996003610813204e-16\n",
      "case10.0: phiym = 0.32930158326613274, 期待値 = 0.329301583266133, 残差 = -2.7755575615628914e-16\n",
      "case11.0: phiym = 0.11345861265124076, 期待値 = 0.11345861265124099, 残差 = -2.3592239273284576e-16\n",
      "case12.0: phiym = 0.01158179050235552, 期待値 = 0.0115817905023555, 残差 = 1.9081958235744878e-17\n",
      "case13.0: phiym = 0.5000000000000001, 期待値 = 0.5, 残差 = 1.1102230246251565e-16\n",
      "case14.0: phiym = 0.49815092249505816, 期待値 = 0.49815092249505794, 残差 = 2.220446049250313e-16\n",
      "case15.0: phiym = 0.4927334129911849, 期待値 = 0.49273341299118495, 残差 = -5.551115123125783e-17\n",
      "case16.0: phiym = 0.4728014230660913, 期待値 = 0.472801423066091, 残差 = 2.7755575615628914e-16\n",
      "case17.0: phiym = 0.2925497886988069, 期待値 = 0.29254978869880705, 残差 = -1.6653345369377348e-16\n",
      "case18.0: phiym = 0.06891930881018411, 期待値 = 0.0689193088101843, 残差 = -1.8041124150158794e-16\n"
     ]
    }
   ],
   "source": [
    "\"\"\" 式(25) Test \"\"\"\n",
    "# \\確認.xlsx \"式(25)phiym\"シート → \\phiym.csv を作成 → \\TestConfig01 下に置いて読み込み → 計算\n",
    "\n",
    "import pandas as pd\n",
    "import sys\n",
    "csv_input = pd.read_csv(filepath_or_buffer=\"./TestConfig01/phiym.csv\", encoding=\"ms932\", sep=\",\")\n",
    "if csv_input.columns[0]!=\"phiym_case\":\n",
    "    sys.exit(\"ファイル内に貼り付けたテスト条件が違います\")\n",
    "for i in range(len(csv_input)):\n",
    "    [case, X1, X2, X3, X1yp, X1ym, X3yp, X3ym, Y1, Y2, Y3, Y1xp, Y1xm, Y3xp, Y3xm, Zxp, Zxm, Zyp, Zym, phiymA] \\\n",
    "        = csv_input.values[i]\n",
    "    phiym = calc_phiym(X1, X2, X3, X1yp, X1ym, X3yp, X3ym, Y1, Y2, Y3, Y1xp, Y1xm, Y3xp, Y3xm, Zxp, Zxm, Zyp, Zym)\n",
    "    print('case{}: phiym = {}, 期待値 = {}, 残差 = {}'.format( case, phiym, phiymA, phiym - phiymA ))"
   ]
  },
  {
   "cell_type": "markdown",
   "metadata": {},
   "source": [
    "#### 6.5 b) 式(24)\n",
    "\n",
    "$$\\gamma_{isr,j,y-} = 2 \\phi_{j,y-} \\qquad (24) $$"
   ]
  },
  {
   "cell_type": "code",
   "execution_count": 20,
   "metadata": {
    "collapsed": true
   },
   "outputs": [],
   "source": [
    "\"\"\" 式(24) \"\"\"\n",
    "\n",
    "def calc_gammaym(X1, X2, X3, X1yp, X1ym, X3yp, X3ym, Y1, Y2, Y3, Y1xp, Y1xm, Y3xp, Y3xm, Zxp, Zxm, Zyp, Zym):\n",
    "    \n",
    "    gammaym = 2 * calc_phiym(X1, X2, X3, X1yp, X1ym, X3yp, X3ym, Y1, Y2, Y3, Y1xp, Y1xm, Y3xp, Y3xm, Zxp, Zxm, Zyp, Zym)\n",
    "         \n",
    "    return gammaym     "
   ]
  }
 ],
 "metadata": {
  "kernelspec": {
   "display_name": "Python 3",
   "language": "python",
   "name": "python3"
  },
  "language_info": {
   "codemirror_mode": {
    "name": "ipython",
    "version": 3
   },
   "file_extension": ".py",
   "mimetype": "text/x-python",
   "name": "python",
   "nbconvert_exporter": "python",
   "pygments_lexer": "ipython3",
   "version": "3.6.2"
  }
 },
 "nbformat": 4,
 "nbformat_minor": 2
}
